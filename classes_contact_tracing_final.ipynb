{
 "cells": [
  {
   "cell_type": "markdown",
   "metadata": {},
   "source": [
    "# Contact Tracing"
   ]
  },
  {
   "cell_type": "markdown",
   "metadata": {},
   "source": [
    "**here we implimente devices and contact or meeting as i call it**"
   ]
  },
  {
   "cell_type": "markdown",
   "metadata": {},
   "source": [
    "## UTILS"
   ]
  },
  {
   "cell_type": "markdown",
   "metadata": {},
   "source": [
    "**Some utilities functions**"
   ]
  },
  {
   "cell_type": "code",
   "execution_count": 1,
   "metadata": {},
   "outputs": [
    {
     "data": {
      "text/plain": [
       "32"
      ]
     },
     "execution_count": 1,
     "metadata": {},
     "output_type": "execute_result"
    }
   ],
   "source": [
    "import random\n",
    "import string\n",
    "\n",
    "def get_random_alphaNumeric_string(stringLength=8):\n",
    "    lettersAndDigits = string.ascii_letters + string.digits\n",
    "    return ''.join((random.choice(lettersAndDigits) for i in range(stringLength)))\n",
    "\n",
    "len(get_random_alphaNumeric_string(32))"
   ]
  },
  {
   "cell_type": "code",
   "execution_count": 2,
   "metadata": {},
   "outputs": [],
   "source": [
    "import hashlib\n",
    "import hmac\n",
    "from math import ceil\n",
    "\n",
    "hash_len = 32\n",
    "def hmac_sha256(key, data):\n",
    "    return hmac.new(key, data, hashlib.sha256).digest()\n",
    "\n",
    "def hkdf(length: int, ikm, salt: bytes = b\"\", info: bytes = b\"\") -> bytes:\n",
    "    if len(salt) == 0:\n",
    "        salt = bytes([0]*hash_len)\n",
    "    prk = hmac_sha256(salt, ikm)\n",
    "    t = b\"\"\n",
    "    okm = b\"\"\n",
    "    for i in range(ceil(length / hash_len)):\n",
    "        t = hmac_sha256(prk, t + info + bytes([1+i]))\n",
    "        okm += t\n",
    "    return okm[:length]"
   ]
  },
  {
   "cell_type": "code",
   "execution_count": 3,
   "metadata": {},
   "outputs": [],
   "source": [
    "# MAKING KEYS\n",
    "import datetime;\n",
    "from datetime import date\n",
    "import time\n",
    "\n",
    "\n",
    "\n",
    "\n",
    "\n",
    "# REQUESTS TO SERVER\n",
    "import requests\n",
    "import json\n",
    "\n",
    "import base64\n",
    "\n",
    "#VIEWS\n",
    "from termcolor import colored\n",
    "\n",
    "\n",
    "#THREADING\n",
    "import threading\n",
    "import time\n",
    "\n",
    "import ipyparallel"
   ]
  },
  {
   "cell_type": "markdown",
   "metadata": {},
   "source": [
    "## CLASS TRACING KEY"
   ]
  },
  {
   "cell_type": "code",
   "execution_count": 4,
   "metadata": {},
   "outputs": [],
   "source": [
    "class Tracingkey:\n",
    "    \n",
    "    def __init__(self):\n",
    "        self.__key_value = None\n",
    "        self.__makeTracingKey()\n",
    "        \n",
    "    def getKeyValue(self):\n",
    "        return self.__key_value\n",
    "    \n",
    "    def __makeTracingKey(self, length=32):\n",
    "            self.__key_value = get_random_alphaNumeric_string(length)"
   ]
  },
  {
   "cell_type": "markdown",
   "metadata": {},
   "source": [
    "## CLASS ROPLLING PROXIMITY IDENTIFIER"
   ]
  },
  {
   "cell_type": "code",
   "execution_count": 5,
   "metadata": {},
   "outputs": [],
   "source": [
    "class RollingProximityKey:\n",
    "    def __init__(self, proximiy_id, ttl=10):\n",
    "        self.__id = proximiy_id\n",
    "        self.time_to_live  = ttl # 10 minute\n",
    "        \n",
    "       \n",
    "        \n",
    "    def getKeyValue(self):\n",
    "        return self.__id\n",
    "    \n",
    "    def getTTL(self):\n",
    "        return self.time_to_live\n",
    "        "
   ]
  },
  {
   "cell_type": "markdown",
   "metadata": {},
   "source": [
    "## CLASS DAILY TRACING KEY"
   ]
  },
  {
   "cell_type": "code",
   "execution_count": 6,
   "metadata": {},
   "outputs": [],
   "source": [
    "class DailyTracingKey:\n",
    "    def __init__(self, day_number, tracing_key):\n",
    "        \n",
    "        self.__key_value = None\n",
    "        \n",
    "        self.__number_day = day_number\n",
    "        self.__encodeDailyTracingKey(tracing_key) #generate __daily_tracing_key\n",
    "        \n",
    "        self.valid_from = day_number\n",
    "        self.valid_to = day_number+1\n",
    "        self.__is_gen = False\n",
    "    \n",
    "    \n",
    "    def isValidKey(self, tracing_key):\n",
    "        gen_key = hkdf(length=16, ikm = bytes(tracing_key, 'utf-8'), info = bytes(self.__number_day) ) \n",
    "        \n",
    "        if gen_key == self.__key_value:\n",
    "            return True\n",
    "        return False\n",
    "    \n",
    "    def getKeyValue(self):\n",
    "        return self.__key_value\n",
    "    \n",
    "    def getDayNum(self):\n",
    "        return self.__number_day\n",
    "        \n",
    "    \n",
    "    def generateRollingProximityIdentifierKey(self, daily_key = None, \n",
    "                                            time_interval = None):\n",
    "        \n",
    "        seconds_since_start_of_day_number =  datetime.datetime.now().timestamp()% (60*60*24)\n",
    "        self.__time_interval_number = int(seconds_since_start_of_day_number/(60*10)) \n",
    "        \n",
    "        \n",
    "        if daily_key == None:\n",
    "            daily_key = self.__key_value\n",
    "        if time_interval == None:\n",
    "            time_interval = self.__time_interval_number  \n",
    "        \n",
    "        time_interval_number_encoded = str(time_interval).encode()\n",
    "        print('Time interval encoded', time_interval_number_encoded)\n",
    "        self.__proximity_id_compete  = hmac.new( daily_key, time_interval_number_encoded , \n",
    "                                                hashlib.sha256).digest()\n",
    "        self.__proximity_id_16 = self.__proximity_id_compete[0:16]\n",
    "        \n",
    "        self.__proximity_id_16\n",
    "        \n",
    "        rolling_proximity = RollingProximityKey(self.__proximity_id_16)\n",
    "        \n",
    "        return rolling_proximity\n",
    "    \n",
    "    \n",
    "    \n",
    "    def __encodeDailyTracingKey(self, tracing_key):\n",
    "        #print(self.__tracing_key)\n",
    "        '''\n",
    "        if self.__is_gen = False:\n",
    "            self.__key_value = hkdf(length=16, ikm = bytes(tracing_key, 'utf-8'), info = bytes(self.__number_day) )        \n",
    "            self.__is_gen =True\n",
    "            return\n",
    "        print(\"already generated\")\n",
    "        '''\n",
    "        self.__key_value = hkdf(length=16, ikm = bytes(tracing_key, 'utf-8'), info = bytes(self.__number_day) )     \n",
    "        #]              print here \n",
    "        \n",
    "    \n",
    "    \n",
    "    def __generateRollingProximityIdentifierKey(self, infected_diagnostic_keys_tuple, interval):\n",
    "        __possible_rolling_proxomity_keys_tuples = []\n",
    "        \n",
    "        (derived_day, diagnostic_key) = infected_diagnostic_keys_tuple\n",
    "        for interval_val in range(interval):\n",
    "            \n",
    "            proximity_id_compete  = hmac.new(\n",
    "                base64.b64decode(diagnostic_key) , \n",
    "                str(interval_val).encode()  , \n",
    "                hashlib.sha256).digest()\n",
    "\n",
    "            proximity_id_16 = proximity_id_compete[0:16]\n",
    "\n",
    "            __possible_rolling_proxomity_keys_tuples.append((interval_val, proximity_id_16, derived_day))\n",
    "        return __possible_rolling_proxomity_keys_tuples\n",
    "    \n",
    "    \n",
    "    def generateAllProximityRollingKey(self, infected_diagnostic_key_dict, nb = None):\n",
    "        if nb is None:\n",
    "            nb = len(infected_diagnostic_key_dict)\n",
    "        nb = min(len(infected_diagnostic_key_dict), nb)    \n",
    "        \n",
    "        self.all_possible_rolling_proximity_keyes = []\n",
    "        infected_diagnostic_keys_tuples = []\n",
    "        \n",
    "        for derived_day, infected_diag_key_list in list(infected_diagnostic_key_dict.items())[-nb:]:\n",
    "\n",
    "            infected_diagnostic_keys_tuples.extend([(derived_day, diag_key) for diag_key in infected_diag_key_list])\n",
    "            \n",
    "        ([self.all_possible_rolling_proximity_keyes.extend(self.__generateRollingProximityIdentifierKey(tuple_key, 144)) for tuple_key in infected_diagnostic_keys_tuples])\n",
    "        \n",
    "        return self.all_possible_rolling_proximity_keyes \n",
    "        \n",
    "    \n",
    "    \n",
    "    "
   ]
  },
  {
   "cell_type": "markdown",
   "metadata": {},
   "source": [
    "## CLASS TRACING KEY STORE"
   ]
  },
  {
   "cell_type": "code",
   "execution_count": 7,
   "metadata": {},
   "outputs": [],
   "source": [
    "class TracingKeyStore:\n",
    "    def __init__(self, owner_name, device_id, update_interval=300):\n",
    "        \n",
    "        '''IDENTIFICATION OF THE DEVICE'''\n",
    "        self.device_id = device_id\n",
    "        self.owner_name = owner_name\n",
    "        '''SELF INFECTION'''\n",
    "        self.__get_infected = False\n",
    "        \n",
    "        '''TRACING KEY IDENTIFIER'''\n",
    "        self.__device_tracing_key = Tracingkey() #Tracing key for the key stoore (device)\n",
    "        \n",
    "        '''UPDATE INTERVAL'''\n",
    "        self.__update_interval = update_interval\n",
    "       \n",
    "        \n",
    "        \n",
    "        \n",
    "        '''DAILY TRACING KEYS'''\n",
    "        self.__day_number = None #current number day\n",
    "        self.__daily_tracing_key_queue = None # Daily tracing key queue table\n",
    "        self.__daily_tracing_queue_len=14\n",
    "        self.daily_tracing_cpt = -1 # So we can call updateState function\n",
    "        self.__daily_tracing_key_queue = [None for i in range(self.__daily_tracing_queue_len)]\n",
    "        \n",
    "        \n",
    "        #generate __daily_tracing_key\n",
    "        self.__current_daily_tracing_object = None\n",
    "        '''END DAILY TRACING KEYS'''\n",
    "        \n",
    "        \n",
    "        '''ROLLING PROXIMITY INDENTIFIER'''\n",
    "        self.__time_interval_number = None\n",
    "        self.__generated_rolling_proxy_table = []\n",
    "        #get first rolling identifier the rolling\n",
    "        self.__current_rolling_proxomity_identifier = None\n",
    "        '''END ROLLING PROXIMITY INDENTIFIER'''\n",
    "        \n",
    "        \n",
    "        '''VERY IMPORANT WE CALL UPDATE STATE ON THE NEWLLY CREATED OBJECT TO SET STATE ON A THREAD'''\n",
    "        '''\n",
    "        #Using threads\n",
    "        \n",
    "        thread = threading.Thread(target=self.updateState(), args=())\n",
    "        thread.daemon = True                            # Daemonize thread\n",
    "        thread.start() \n",
    "        '''\n",
    "        \n",
    "        self.updateState()\n",
    "        '''\n",
    "        SET THE STATE\n",
    "        '''\n",
    "        \n",
    "      \n",
    "        '''CONTACT LIST'''\n",
    "        self.__contact_rolling_proxy_table = []\n",
    "        self.contact_list = None # Dailly tracing key\n",
    "        \n",
    "        ## pour les objet de type rolling key\n",
    "        self.__tab_rolling_proxy_ids = []\n",
    "        \n",
    "        \n",
    "        ##\n",
    "        self.__get_infected = False\n",
    "        \n",
    "        \n",
    "        '''INFECTION AREA'''\n",
    "        \n",
    "        ##\n",
    "        self.__infected_diagnostic_keys_dict = {}\n",
    "        \n",
    "        ###\n",
    "        self.__tab_infected_diag_keys_tuples = []\n",
    "        \n",
    "        ###\n",
    "        self.__infections_days = []\n",
    "        \n",
    "    def getOwnerName(self):\n",
    "        return self.owner_name\n",
    "    def getDeviceId(self):\n",
    "        return self.device_id\n",
    "    \n",
    "    def getCurrentTracingKey(self):\n",
    "        return self.__device_tracing_key.getKeyValue()\n",
    "    \n",
    "    \n",
    "    \n",
    "    def getDailyKeyQueueIndex(self, inc=0, add=0):\n",
    "        if inc !=0:\n",
    "            self.daily_tracing_cpt += inc\n",
    "            return (self.daily_tracing_cpt % self.__daily_tracing_queue_len)+add\n",
    "        \n",
    "        return (self.daily_tracing_cpt % self.__daily_tracing_queue_len)+add\n",
    "        \n",
    "        \n",
    "        \n",
    "        \n",
    "    def updateStateWithThread(self):\n",
    "        \n",
    "        while True:\n",
    "            \n",
    "            \n",
    "            \n",
    "            if self.__day_number != int(datetime.datetime.now().timestamp()/(60*60*24)):\n",
    "                self.__day_number = int(datetime.datetime.now().timestamp()/(60*60*24))\n",
    "\n",
    "                self.__current_daily_tracing_object = DailyTracingKey(self.__day_number, self.__device_tracing_key.getKeyValue())\n",
    "                daily_key_index = self.getDailyKeyQueueIndex(inc=1)\n",
    "                self.__daily_tracing_key_queue[daily_key_index]= self.__current_daily_tracing_object\n",
    "\n",
    "\n",
    "            seconds_since_start_of_day_number =  datetime.datetime.now().timestamp()% (60*60*24)    \n",
    "            if self.__time_interval_number != int(seconds_since_start_of_day_number/(60*10)):\n",
    "                self.__time_interval_number = int(seconds_since_start_of_day_number/(60*10))\n",
    "\n",
    "                self.__current_rolling_proxomity_identifier = self.__current_daily_tracing_object.generateRollingProximityIdentifierKey()\n",
    "                self.__generated_rolling_proxy_table.append(self.__current_rolling_proxomity_identifier)\n",
    "            \n",
    "            # Do background update\n",
    "            \n",
    "            print('Update state for Key Store ', self.device_id , \"Owner \", self.owner_name)\n",
    "\n",
    "            time.sleep(self.__update_interval)\n",
    "            \n",
    "            \n",
    "    def updateState(self):\n",
    "        \n",
    "\n",
    "        if self.__day_number != int(datetime.datetime.now().timestamp()/(60*60*24)):\n",
    "            self.__day_number = int(datetime.datetime.now().timestamp()/(60*60*24))\n",
    "\n",
    "            self.__current_daily_tracing_object = DailyTracingKey(self.__day_number, self.__device_tracing_key.getKeyValue())\n",
    "            daily_key_index = self.getDailyKeyQueueIndex(inc=1)\n",
    "            self.__daily_tracing_key_queue[daily_key_index]= self.__current_daily_tracing_object\n",
    "\n",
    "\n",
    "        seconds_since_start_of_day_number =  datetime.datetime.now().timestamp()% (60*60*24)    \n",
    "        if self.__time_interval_number != int(seconds_since_start_of_day_number/(60*10)):\n",
    "            self.__time_interval_number = int(seconds_since_start_of_day_number/(60*10))\n",
    "\n",
    "            self.__current_rolling_proxomity_identifier = self.__current_daily_tracing_object.generateRollingProximityIdentifierKey()\n",
    "            self.__generated_rolling_proxy_table.append(self.__current_rolling_proxomity_identifier)\n",
    "        \n",
    "        #update diagnostic keys\n",
    "        #self.getInfectedDiagnosticKeys()\n",
    "        # Do background update\n",
    "\n",
    "        print('Update state for Key Store ', self.device_id , \"Owner \", self.owner_name)\n",
    "\n",
    "\n",
    "    \n",
    "    def getCurrentDayNumber():\n",
    "        '''Update the state, then get the current daily object'''\n",
    "        self.updateState()\n",
    "        return self.__day_number\n",
    "    \n",
    "    def getCurrentDailyTracingObject(self):\n",
    "        '''Update the state, then get the current daily object'''\n",
    "        self.updateState()\n",
    "        \n",
    "        return self.__current_daily_tracing_object\n",
    "\n",
    "    def getCurrentDailyTracingKey(self):\n",
    "        '''Update the state, then get the current daily key'''\n",
    "        self.updateState()\n",
    "        \n",
    "        return self.__current_daily_tracing_object.getKeyValue()\n",
    "        #return self.getCurrentDailyTracingObject().getKeyValue()\n",
    "        \n",
    "        \n",
    "    \n",
    "    def getCurrentRollingProximityIdentifier(self):\n",
    "        '''Update the state, then get the current rolling proximity key'''\n",
    "        self.updateState()\n",
    "        \n",
    "        return self.__current_rolling_proxomity_identifier\n",
    "    \n",
    "    \n",
    "    def saveContact(self, new_rolling_proximity_objects):\n",
    "        '''Daily tracing key on ne peut pas revevoir des objet seulement des key'''\n",
    "        '''Update the state'''\n",
    "        self.updateState()\n",
    "        print('hI FROM CONTACT SAVE')\n",
    "        \n",
    "        keys = new_rolling_proximity_objects['key']\n",
    "        ttl = new_rolling_proximity_objects['ttl']\n",
    "        for key in keys:\n",
    "\n",
    "            if ttl == self.__time_interval_number and key not in self.__generated_rolling_proxy_table and key not in list(map(lambda x:x[1],self.__contact_rolling_proxy_table)):\n",
    "                self.__contact_rolling_proxy_table.append((self.__day_number, key))\n",
    "\n",
    "    \n",
    "    #declarer cas self cas positive\n",
    "    def testedPositive(self, server_url = 'http://localhost:9000/positive' ):\n",
    "        '''Update the state, then get the current rolling proximity key'''\n",
    "        #self.updateState()\n",
    "        \n",
    "        if not self.__get_infected:\n",
    "            self.__get_infected = True\n",
    "            \n",
    "            self.__infetion_server = server_url\n",
    "\n",
    "            diag_keys_list =[]\n",
    "            for daily_tracing_key in self.__daily_tracing_key_queue:\n",
    "                #day_num = daily_tracy_key.getDayNum()\n",
    "                \n",
    "                if daily_tracing_key is not None:\n",
    "                    diag_bytes = daily_tracing_key.getKeyValue()\n",
    "\n",
    "                    diag_64 = base64.b64encode(diag_bytes).decode('ascii')\n",
    "\n",
    "                    diag_keys_list.append(\n",
    "                        { 'day_num':self.__day_number, 'diag_key': diag_64 } \n",
    "                    )\n",
    "                diagnosis_keys = {\n",
    "                    'data': diag_keys_list\n",
    "                    }\n",
    "            \n",
    "            response = requests.post(self.__infetion_server, data = json.dumps(diagnosis_keys)) \n",
    "            \n",
    "            if response.status_code == 200:\n",
    "                print('Success')\n",
    "                print(response.text)\n",
    "                \n",
    "                \n",
    "    def getInfectedDiagnosticKeys(self,  server_url = 'http://localhost:9000/positive/all' ):\n",
    "    \n",
    "        self.__infetion_server = server_url\n",
    "        response = requests.get(self.__infetion_server) \n",
    "        if response.status_code == 200:\n",
    "            #it return some string keys so lets just chnage it for now at least\n",
    "            self.__infected_diagnostic_keys_dict = {}\n",
    "            derived_diagnistic_keys = response.json()\n",
    "            local_dailly_tracing_keys = list(map(lambda x:x.getKeyValue(), filter(lambda x:x!=None, self.__daily_tracing_key_queue) )) \n",
    "            #print('dervied', derived_diagnistic_keys)\n",
    "            for diagnostic_key in  derived_diagnistic_keys:\n",
    "                diagnostic_key_bin = base64.b64decode(diagnostic_key) \n",
    "                if diagnostic_key_bin in local_dailly_tracing_keys  and self.__get_infected==True:\n",
    "                    print(self.getOwnerName(), ' Is Already infected self check from Cloud')\n",
    "                    \n",
    "                elif diagnostic_key_bin in local_dailly_tracing_keys and self.__get_infected==False:\n",
    "                    print(self.getOwnerName(), ' Is not infected but his tracing still in Cloud as infected')\n",
    "                    #later we will see if important to remove it from Cloud\n",
    "                    \n",
    "                elif diagnostic_key_bin not in local_dailly_tracing_keys and self.__get_infected==True:\n",
    "                    self.testedPositive()\n",
    "                    \n",
    "                if diagnostic_key_bin not in local_dailly_tracing_keys :\n",
    "                    #print('bing here ', diagnostic_key_bin)\n",
    "                    if self.__day_number in self.__infected_diagnostic_keys_dict.keys() :\n",
    "                        self.__infected_diagnostic_keys_dict[self.__day_number].append(diagnostic_key, )\n",
    "                    else :\n",
    "                        self.__infected_diagnostic_keys_dict[self.__day_number] = [diagnostic_key]\n",
    "                        \n",
    "            print('Success load diagnostic dailly keys')\n",
    "            print(self.__infected_diagnostic_keys_dict)\n",
    "            \n",
    "\n",
    "    def isContactOccurred(self):\n",
    "        '''Possitive daily tracing key list'''\n",
    "        '''Here we give final situation of contact we give situation but Im not sure if we should give also the date '''\n",
    "        \n",
    "        '''Update the state, then get the current rolling proximity key'''\n",
    "        self.updateState()\n",
    "        self.getInfectedDiagnosticKeys()\n",
    "        #print('dailies before insert into function', self.__infected_diagnostic_keys_dict)   \n",
    "        \n",
    "        self.all_possible_rolling_keys_from_diagnostic_keys = self.__current_daily_tracing_object.generateAllProximityRollingKey(self.__infected_diagnostic_keys_dict)\n",
    "        print('generated possible rollings length ' ,len(self.all_possible_rolling_keys_from_diagnostic_keys) )\n",
    "        print('All contact for ',self.getOwnerName(), \": \" , self.__contact_rolling_proxy_table)\n",
    "        for (interval, generated_rolling_proximity_key, derived_day ) in self.all_possible_rolling_keys_from_diagnostic_keys:\n",
    "            \n",
    "            for (contact_day, contacted_rolling_proximity_key) in self.__contact_rolling_proxy_table:\n",
    "                if generated_rolling_proximity_key== contacted_rolling_proximity_key:\n",
    "                    print( generated_rolling_proximity_key, contacted_rolling_proximity_key)\n",
    "                    self.__infections_days.append((contact_day, interval))\n",
    "                    \n",
    "        if len(self.__infections_days)>0:\n",
    "            for (contacted_day, interval) in self.__infections_days :\n",
    "                contact_date =  date.fromtimestamp(time.time()- contacted_day )\n",
    "                print(colored('Alert ‼', 'red'), self.owner_name, \"Has One contact Infected Persone at day : \", contact_date, 'at hour ', int(interval*10/60), \"H\")\n",
    "                print(colored(self.owner_name+' Get a test if possible or self quarantine and and visit the hospital when facing Complications with infection', 'red'))\n",
    "                #print(self.owner_name, \"Has One contact infected at day : \", num_day)\n",
    "        elif  self.__get_infected==True:\n",
    "            print(colored('Double Alert 💥‼', 'red'), self.owner_name, \" is Tested postive His infected\")\n",
    "            print(colored(self.owner_name+' Self qurantine and visit the hospital when facing Complications with infection', 'red'))\n",
    "        else:\n",
    "            \n",
    "            print(colored('Ok ✔ ', 'green'), self.owner_name, \" Has No contact with infected people\")\n",
    "            #print(self.owner_name, \" Has No contact with infected people\")\n",
    "        \n",
    "        #print(self.all_possible_rolling_keys_from_diagnostic_keys)\n",
    "    \n",
    "    \n",
    "    \n",
    "    \n",
    "    "
   ]
  },
  {
   "cell_type": "markdown",
   "metadata": {},
   "source": [
    "# TESTS ON DEVICE CLASS"
   ]
  },
  {
   "cell_type": "markdown",
   "metadata": {},
   "source": [
    "## TESTING DEVICES METHODES"
   ]
  },
  {
   "cell_type": "code",
   "execution_count": 8,
   "metadata": {},
   "outputs": [
    {
     "name": "stdout",
     "output_type": "stream",
     "text": [
      "Time interval encoded b'140'\n",
      "Update state for Key Store  111 Owner  Mohamed Hassani\n"
     ]
    }
   ],
   "source": [
    "d1 = TracingKeyStore(\"Mohamed Hassani\", 111, 10)"
   ]
  },
  {
   "cell_type": "code",
   "execution_count": 9,
   "metadata": {},
   "outputs": [
    {
     "name": "stdout",
     "output_type": "stream",
     "text": [
      "Tracing Key  :  mlxOIhDBywaAlYGiMJ9mNX2Ua95wiMN3\n",
      "Length of Tracing Key 32\n",
      "Update state for Key Store  111 Owner  Mohamed Hassani\n",
      "Daily Tracing Key  :  b'\\xce\\x16\\x91,\\xd7\\xdaV\\x8c\\xe1\\xb2yY\\xa6\\xc4\\x98j'\n",
      "Update state for Key Store  111 Owner  Mohamed Hassani\n",
      "Length of Daily Tracing Key 16\n",
      "Update state for Key Store  111 Owner  Mohamed Hassani\n",
      "Rolling Proximity Identifier  b'=I\\xd8\\xc4HJ7\\xe4)\\x00\\xc63\\x18\\xc8\\x84\\xfa'\n",
      "Update state for Key Store  111 Owner  Mohamed Hassani\n",
      "Length of Rolling Proximity Identifier final 16\n"
     ]
    }
   ],
   "source": [
    "\n",
    "#print('Device Owner ', d1.getOwnerName())\n",
    "print('Tracing Key  : ', d1.getCurrentTracingKey())\n",
    "print('Length of Tracing Key', len(d1.getCurrentTracingKey()))\n",
    "print('Daily Tracing Key  : ', d1.getCurrentDailyTracingKey())\n",
    "print('Length of Daily Tracing Key', len(d1.getCurrentDailyTracingKey()))\n",
    "\n",
    "p_id = d1.getCurrentRollingProximityIdentifier()\n",
    "print('Rolling Proximity Identifier ', p_id.getKeyValue())\n",
    "print('Length of Rolling Proximity Identifier final', len(d1.getCurrentRollingProximityIdentifier().getKeyValue()))"
   ]
  },
  {
   "cell_type": "markdown",
   "metadata": {},
   "source": [
    "## Infections methodes"
   ]
  },
  {
   "cell_type": "code",
   "execution_count": 10,
   "metadata": {},
   "outputs": [
    {
     "name": "stdout",
     "output_type": "stream",
     "text": [
      "Success load diagnostic dailly keys\n",
      "{18645: ['HcxSRob8ozXlCJH12HPiXw==', 'HcxSRob8ozXlCJHnJKNljnjj', 'HcxSRob8onsdjsndjuJKJwXj']}\n"
     ]
    }
   ],
   "source": [
    "d1.getInfectedDiagnosticKeys()"
   ]
  },
  {
   "cell_type": "markdown",
   "metadata": {},
   "source": [
    "**declaire infection**"
   ]
  },
  {
   "cell_type": "code",
   "execution_count": 11,
   "metadata": {},
   "outputs": [
    {
     "name": "stdout",
     "output_type": "stream",
     "text": [
      "Success\n",
      "{\n",
      "  \"msg\": \"Successfully stored\", \n",
      "  \"status\": 200\n",
      "}\n",
      "\n"
     ]
    }
   ],
   "source": [
    "d1.testedPositive()"
   ]
  },
  {
   "cell_type": "markdown",
   "metadata": {},
   "source": [
    "**check if theer is a contact with infected pe**"
   ]
  },
  {
   "cell_type": "code",
   "execution_count": 12,
   "metadata": {},
   "outputs": [
    {
     "name": "stdout",
     "output_type": "stream",
     "text": [
      "Update state for Key Store  111 Owner  Mohamed Hassani\n",
      "Mohamed Hassani  Is Already infected self check from Cloud\n",
      "Success load diagnostic dailly keys\n",
      "{18645: ['HcxSRob8ozXlCJH12HPiXw==', 'HcxSRob8ozXlCJHnJKNljnjj', 'HcxSRob8onsdjsndjuJKJwXj']}\n",
      "generated possible rollings length  432\n",
      "All contact for  Mohamed Hassani :  []\n",
      "\u001b[31mDouble Alert 💥‼\u001b[0m Mohamed Hassani  is Tested postive His infected\n",
      "\u001b[31mMohamed Hassani Self qurantine and visit the hospital when facing Complications with infection\u001b[0m\n"
     ]
    }
   ],
   "source": [
    "d1.isContactOccurred()"
   ]
  },
  {
   "cell_type": "markdown",
   "metadata": {},
   "source": [
    "# Pulic meeting "
   ]
  },
  {
   "cell_type": "markdown",
   "metadata": {},
   "source": [
    "**in this class we simulate the BLE contact rolling keys exchange in a very simple ways**"
   ]
  },
  {
   "cell_type": "code",
   "execution_count": 13,
   "metadata": {},
   "outputs": [],
   "source": [
    "## HERE WE GONNA DEFINE SOME METING TO KNOW PEOPLE THAT MEET .... WE SEMULATE IN PRIMITIVE WAY THE BLE OF THE DEVICE \n",
    "### We need a table where exist all devices with an Id tha semulat BLE signal so ... \n",
    "\n",
    "class Meeting:\n",
    "    \n",
    "    def __init__(self):\n",
    "        \n",
    "        self.__tab_proxy_contact_tracing_people = [] # contain ids of devices in same pace ther is a BLE Link ...\n",
    "        self.__tab_rolling_proximity_identifiers = [] # comtains rolling proximity identifiers generated by those devices every 10 min\n",
    "    \n",
    "    def getAllRollingProximityIdentifiers(self):\n",
    "        return self.__tab_rolling_proximity_identifiers\n",
    "    \n",
    "    def addContact(self, device_id, devices_list, ttl=10): \n",
    "        '''remember that contact tracing is focusing on privacy here id device is just to semulat near distance contact between device that have Contact Tracing active'''\n",
    "        if device_id not in self.__tab_proxy_contact_tracing_people:\n",
    "            self.__tab_proxy_contact_tracing_people.append(device_id)\n",
    "            \n",
    "            for device in devices_list:\n",
    "                if device.getDeviceId() == device_id:\n",
    "                    device_rolling_proximity_identifier = device.getCurrentRollingProximityIdentifier().getKeyValue()\n",
    "                    if device_rolling_proximity_identifier not in self.__tab_rolling_proximity_identifiers:\n",
    "                        self.__tab_rolling_proximity_identifiers.append(device_rolling_proximity_identifier)\n",
    "                    \n",
    "            for device in devices_list:\n",
    "                device.saveContact({'key':self.__tab_rolling_proximity_identifiers, 'ttl':ttl})\n",
    "                \n",
    "            print('HI---------------------\\n', self.__tab_rolling_proximity_identifiers)"
   ]
  },
  {
   "cell_type": "code",
   "execution_count": 14,
   "metadata": {},
   "outputs": [
    {
     "name": "stdout",
     "output_type": "stream",
     "text": [
      "Time interval encoded b'140'\n",
      "Update state for Key Store  222 Owner  Amine Reda\n",
      "Time interval encoded b'140'\n",
      "Update state for Key Store  333 Owner  Meyiam Salhi\n",
      "Update state for Key Store  222 Owner  Amine Reda\n",
      "Update state for Key Store  222 Owner  Amine Reda\n",
      "hI FROM CONTACT SAVE\n",
      "Update state for Key Store  333 Owner  Meyiam Salhi\n",
      "hI FROM CONTACT SAVE\n",
      "HI---------------------\n",
      " [b'\\x1cM\\xc0-\\xeaN\\x8a\\x1d\\xcar\\x98\\xc6lqG\\xad']\n",
      "Update state for Key Store  333 Owner  Meyiam Salhi\n",
      "Update state for Key Store  222 Owner  Amine Reda\n",
      "hI FROM CONTACT SAVE\n",
      "Update state for Key Store  333 Owner  Meyiam Salhi\n",
      "hI FROM CONTACT SAVE\n",
      "HI---------------------\n",
      " [b'\\x1cM\\xc0-\\xeaN\\x8a\\x1d\\xcar\\x98\\xc6lqG\\xad', b'\\xb2\\xa2Hf/\\xebR\\x1bl\\xc5(\\\\\\x13\\xe5\\xb4#']\n",
      "Success load diagnostic dailly keys\n",
      "{18645: ['HcxSRob8ozXlCJH12HPiXw==', 'HcxSRob8ozXlCJHnJKNljnjj', 'HcxSRob8onsdjsndjuJKJwXj', 'zhaRLNfaVozhsnlZpsSYag==']}\n",
      "Success load diagnostic dailly keys\n",
      "{18645: ['HcxSRob8ozXlCJH12HPiXw==', 'HcxSRob8ozXlCJHnJKNljnjj', 'HcxSRob8onsdjsndjuJKJwXj', 'zhaRLNfaVozhsnlZpsSYag==']}\n",
      "[<__main__.TracingKeyStore object at 0x0000022889C63488>, <__main__.TracingKeyStore object at 0x0000022889C63648>]\n"
     ]
    }
   ],
   "source": [
    "# TEST MEETHING\n",
    "\n",
    "seconds_since_start_of_day_number =  datetime.datetime.now().timestamp()% (60*60*24)\n",
    "ttl= int(seconds_since_start_of_day_number/(60*10)) \n",
    "        \n",
    "devices = []\n",
    "\n",
    "d2 = TracingKeyStore(\"Amine Reda\", 222)\n",
    "devices.append(d2)\n",
    "\n",
    "d3 = TracingKeyStore(\"Meyiam Salhi\", 333)\n",
    "devices.append(d3)\n",
    "\n",
    "meeting_1 = Meeting()\n",
    "\n",
    "meeting_1.addContact(222, devices, ttl)\n",
    "meeting_1.addContact(333, devices, ttl)\n",
    "\n",
    "\n",
    "d2.getInfectedDiagnosticKeys()\n",
    "d3.getInfectedDiagnosticKeys()\n",
    "print(devices)"
   ]
  },
  {
   "cell_type": "code",
   "execution_count": 15,
   "metadata": {},
   "outputs": [
    {
     "data": {
      "text/plain": [
       "140"
      ]
     },
     "execution_count": 15,
     "metadata": {},
     "output_type": "execute_result"
    }
   ],
   "source": [
    "ttl"
   ]
  },
  {
   "cell_type": "markdown",
   "metadata": {},
   "source": [
    "**Contact Rolling keys circulating ins this meeting of conctact**"
   ]
  },
  {
   "cell_type": "code",
   "execution_count": 16,
   "metadata": {},
   "outputs": [
    {
     "data": {
      "text/plain": [
       "[b'\\x1cM\\xc0-\\xeaN\\x8a\\x1d\\xcar\\x98\\xc6lqG\\xad',\n",
       " b'\\xb2\\xa2Hf/\\xebR\\x1bl\\xc5(\\\\\\x13\\xe5\\xb4#']"
      ]
     },
     "execution_count": 16,
     "metadata": {},
     "output_type": "execute_result"
    }
   ],
   "source": [
    "meeting_1.getAllRollingProximityIdentifiers()"
   ]
  },
  {
   "cell_type": "markdown",
   "metadata": {},
   "source": [
    "### We test a user as positive"
   ]
  },
  {
   "cell_type": "code",
   "execution_count": 17,
   "metadata": {},
   "outputs": [
    {
     "name": "stdout",
     "output_type": "stream",
     "text": [
      "Success\n",
      "{\n",
      "  \"msg\": \"Successfully stored\", \n",
      "  \"status\": 200\n",
      "}\n",
      "\n"
     ]
    }
   ],
   "source": [
    "d2.testedPositive()"
   ]
  },
  {
   "cell_type": "code",
   "execution_count": 18,
   "metadata": {},
   "outputs": [
    {
     "name": "stdout",
     "output_type": "stream",
     "text": [
      "Amine Reda  Is Already infected self check from Cloud\n",
      "Success load diagnostic dailly keys\n",
      "{18645: ['HcxSRob8ozXlCJH12HPiXw==', 'HcxSRob8ozXlCJHnJKNljnjj', 'HcxSRob8onsdjsndjuJKJwXj', 'zhaRLNfaVozhsnlZpsSYag==']}\n"
     ]
    }
   ],
   "source": [
    "d2.getInfectedDiagnosticKeys()"
   ]
  },
  {
   "cell_type": "code",
   "execution_count": 19,
   "metadata": {},
   "outputs": [
    {
     "name": "stdout",
     "output_type": "stream",
     "text": [
      "Update state for Key Store  222 Owner  Amine Reda\n",
      "Amine Reda  Is Already infected self check from Cloud\n",
      "Success load diagnostic dailly keys\n",
      "{18645: ['HcxSRob8ozXlCJH12HPiXw==', 'HcxSRob8ozXlCJHnJKNljnjj', 'HcxSRob8onsdjsndjuJKJwXj', 'zhaRLNfaVozhsnlZpsSYag==']}\n",
      "generated possible rollings length  576\n",
      "All contact for  Amine Reda :  [(18645, b'\\x1cM\\xc0-\\xeaN\\x8a\\x1d\\xcar\\x98\\xc6lqG\\xad'), (18645, b'\\xb2\\xa2Hf/\\xebR\\x1bl\\xc5(\\\\\\x13\\xe5\\xb4#')]\n",
      "\u001b[31mDouble Alert 💥‼\u001b[0m Amine Reda  is Tested postive His infected\n",
      "\u001b[31mAmine Reda Self qurantine and visit the hospital when facing Complications with infection\u001b[0m\n"
     ]
    }
   ],
   "source": [
    "d2.isContactOccurred()"
   ]
  },
  {
   "cell_type": "code",
   "execution_count": 20,
   "metadata": {},
   "outputs": [
    {
     "name": "stdout",
     "output_type": "stream",
     "text": [
      "Update state for Key Store  333 Owner  Meyiam Salhi\n",
      "Success load diagnostic dailly keys\n",
      "{18645: ['HcxSRob8ozXlCJH12HPiXw==', 'HcxSRob8ozXlCJHnJKNljnjj', 'HcxSRob8onsdjsndjuJKJwXj', 'zhaRLNfaVozhsnlZpsSYag==', 'Dyn2bJLPQ9/CQ2IzH+8RNg==']}\n",
      "generated possible rollings length  720\n",
      "All contact for  Meyiam Salhi :  [(18645, b'\\x1cM\\xc0-\\xeaN\\x8a\\x1d\\xcar\\x98\\xc6lqG\\xad'), (18645, b'\\xb2\\xa2Hf/\\xebR\\x1bl\\xc5(\\\\\\x13\\xe5\\xb4#')]\n",
      "b'\\x1cM\\xc0-\\xeaN\\x8a\\x1d\\xcar\\x98\\xc6lqG\\xad' b'\\x1cM\\xc0-\\xeaN\\x8a\\x1d\\xcar\\x98\\xc6lqG\\xad'\n",
      "\u001b[31mAlert ‼\u001b[0m Meyiam Salhi Has One contact Infected Persone at day :  2021-01-18 at hour  23 H\n",
      "\u001b[31mMeyiam Salhi Get a test if possible or self quarantine and and visit the hospital when facing Complications with infection\u001b[0m\n"
     ]
    }
   ],
   "source": [
    "d3.isContactOccurred()"
   ]
  },
  {
   "cell_type": "markdown",
   "metadata": {},
   "source": [
    "**Like we see we have a contact with an infected user**"
   ]
  },
  {
   "cell_type": "markdown",
   "metadata": {},
   "source": [
    "**Some useless logs**"
   ]
  },
  {
   "cell_type": "code",
   "execution_count": 21,
   "metadata": {},
   "outputs": [
    {
     "name": "stdout",
     "output_type": "stream",
     "text": [
      "Update state for Key Store  333 Owner  Meyiam Salhi\n"
     ]
    },
    {
     "data": {
      "text/plain": [
       "[b'\\x1cM\\xc0-\\xeaN\\x8a\\x1d\\xcar\\x98\\xc6lqG\\xad',\n",
       " b'\\xb2\\xa2Hf/\\xebR\\x1bl\\xc5(\\\\\\x13\\xe5\\xb4#']"
      ]
     },
     "execution_count": 21,
     "metadata": {},
     "output_type": "execute_result"
    }
   ],
   "source": [
    "d3.getCurrentRollingProximityIdentifier()\n",
    "meeting_1.addContact(333, devices)\n",
    "meeting_1.getAllRollingProximityIdentifiers()"
   ]
  }
 ],
 "metadata": {
  "kernelspec": {
   "display_name": "Python 3",
   "language": "python",
   "name": "python3"
  },
  "language_info": {
   "codemirror_mode": {
    "name": "ipython",
    "version": 3
   },
   "file_extension": ".py",
   "mimetype": "text/x-python",
   "name": "python",
   "nbconvert_exporter": "python",
   "pygments_lexer": "ipython3",
   "version": "3.7.6"
  }
 },
 "nbformat": 4,
 "nbformat_minor": 4
}
