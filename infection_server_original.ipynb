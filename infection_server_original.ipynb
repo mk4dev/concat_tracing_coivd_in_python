{
 "cells": [
  {
   "cell_type": "code",
   "execution_count": null,
   "metadata": {},
   "outputs": [],
   "source": []
  },
  {
   "cell_type": "markdown",
   "metadata": {},
   "source": [
    "# CLOUD CONTACT TRACING"
   ]
  },
  {
   "cell_type": "markdown",
   "metadata": {},
   "source": [
    "# OUR SERVER\n",
    "\n"
   ]
  },
  {
   "cell_type": "code",
   "execution_count": 1,
   "metadata": {},
   "outputs": [],
   "source": [
    "\n",
    "# our sever for contact tracing\n",
    "\n",
    "import flask\n",
    "from flask import request, jsonify\n",
    "\n",
    "\n",
    "##just for tests\n",
    "import json\n",
    "\n",
    "app = flask.Flask(__name__)\n",
    "app.config[\"DEBUG\"] = True\n",
    "\n",
    "\n",
    "\n",
    "positive_cases =     {\n",
    "        18411:[\n",
    "            'HcxSRob8ozXlCJH12HPiXw==',\n",
    "            'HcxSRob8ozXlCJH12HPiXw=='\n",
    "        ],\n",
    "        18414:[\n",
    "            'HcxSRob8ozXlCJH12HPiXw=='\n",
    "        ]\n",
    "    }\n",
    "    \n",
    "    \n",
    "\n",
    "\n",
    "@app.route('/', methods=['GET'])\n",
    "def home():\n",
    "    return '''<h1>CONTACT TRACING API SERVER</h1>\n",
    "<p>WARNING THE API INS NOT PROTECTED HOWEVER WE DON'T STRORE ANY DATA ABOUT YOU .... STAY SAFE AND RESPECT PROTECTION MEASUREMENT.</p>'''\n",
    "\n",
    "\n",
    "\n",
    "'''\n",
    "@app.route('/positive', methods=['GET'])\n",
    "def getPositive():\n",
    "    \n",
    "'''\n",
    "\n",
    "\n",
    "@app.route(\"/positive/all\", methods=[\"GET\"])\n",
    "def apiAllPositive():\n",
    "    if request.method=='GET':\n",
    "        return jsonify(positive_cases), 200\n",
    "    \n",
    "    \n",
    "    \n",
    "@app.route(\"/positive\", methods=[\"GET\"])\n",
    "def apiSomePositive():\n",
    "    if request.method=='GET':\n",
    "        query_parameters = request.args\n",
    "\n",
    "        nb = int(query_parameters.get('nb'))\n",
    "        keys = list(positive_cases.keys())\n",
    "        nb = min(len(keys), nb)\n",
    "        diag_ret = {key:positive_cases[key] for key in keys[:nb]}\n",
    "        print(nb)\n",
    "\n",
    "\n",
    "        return jsonify(diag_ret)\n",
    "    \n",
    "    \n",
    "    \n",
    "    \n",
    "\n",
    "@app.route(\"/positive\", methods=[\"POST\"])\n",
    "def apiPositive():\n",
    "    '''\n",
    "    if request.method=='GET':\n",
    "        return jsonify(positive_cases)\n",
    "    \n",
    "    '''\n",
    "    if request.method=='POST':\n",
    "        posted_data = request.get_json(force=True)\n",
    "        diag_data = posted_data['data']\n",
    "        print(diag_data)\n",
    "        \n",
    "        for diag_elem in diag_data:\n",
    "            day_num = diag_elem['day_num']\n",
    "            diag_key = diag_elem['diag_key']\n",
    "            if day_num in positive_cases:\n",
    "                if diag_key not in positive_cases[day_num]:\n",
    "                    positive_cases[day_num].append(diag_key)\n",
    "            else:\n",
    "                positive_cases[day_num] = [diag_key]\n",
    "            \n",
    "        \n",
    "        \n",
    "        #return jsonify(str(\"Successfully stored  \"))\n",
    "        #return jsonify(str(\"Successfully stored  \" + str(diag_data)))\n",
    "        return jsonify({\n",
    "            'status':200,\n",
    "            'msg':'Successfully stored'\n",
    "        }) , 200\n",
    "    \n",
    "\n",
    "    \n",
    "\n",
    "def home():\n",
    "    return '''<h1>Distant Reading Archive</h1>\n",
    "<p>A prototype API for distant reading of science fiction novels.</p>'''\n"
   ]
  },
  {
   "cell_type": "markdown",
   "metadata": {},
   "source": [
    "## APP RUNNER FROM FLASK !!! 2ND THING TO DO"
   ]
  },
  {
   "cell_type": "code",
   "execution_count": null,
   "metadata": {},
   "outputs": [
    {
     "name": "stderr",
     "output_type": "stream",
     "text": [
      " * Running on http://localhost:9090/ (Press CTRL+C to quit)\n",
      "127.0.0.1 - - [19/Jan/2021 00:30:14] \"\u001b[37mGET / HTTP/1.1\u001b[0m\" 200 -\n",
      "127.0.0.1 - - [19/Jan/2021 00:30:14] \"\u001b[33mGET /favicon.ico HTTP/1.1\u001b[0m\" 404 -\n",
      "127.0.0.1 - - [19/Jan/2021 00:31:44] \"\u001b[37mGET /positive/all HTTP/1.1\u001b[0m\" 200 -\n",
      "127.0.0.1 - - [19/Jan/2021 00:31:46] \"\u001b[37mGET /positive/all HTTP/1.1\u001b[0m\" 200 -\n",
      "127.0.0.1 - - [19/Jan/2021 00:31:47] \"\u001b[37mGET /positive/all HTTP/1.1\u001b[0m\" 200 -\n",
      "127.0.0.1 - - [19/Jan/2021 00:31:48] \"\u001b[37mGET /positive/all HTTP/1.1\u001b[0m\" 200 -\n",
      "127.0.0.1 - - [19/Jan/2021 00:31:50] \"\u001b[37mGET /positive/all HTTP/1.1\u001b[0m\" 200 -\n",
      "127.0.0.1 - - [19/Jan/2021 00:31:51] \"\u001b[37mGET /positive/all HTTP/1.1\u001b[0m\" 200 -\n"
     ]
    }
   ],
   "source": [
    "from werkzeug.wrappers import Request, Response\n",
    "if __name__ == '__main__':\n",
    "    from werkzeug.serving import run_simple\n",
    "    run_simple('localhost', 9090, app)"
   ]
  },
  {
   "cell_type": "markdown",
   "metadata": {},
   "source": [
    "### REQUEST TESING NOT WORKING ON WHEN RUNNIG APP ON SAME NOTEBOOK TRY TEST ON OTHER NOTEBOOK"
   ]
  },
  {
   "cell_type": "code",
   "execution_count": null,
   "metadata": {},
   "outputs": [],
   "source": [
    "# REQUESTS TO SERVER\n",
    "\n",
    "import requests\n",
    "\n",
    "url = 'http://localhost:9000/positive'\n",
    "\n",
    "diag_bytes =  b'\\x8e\\x0f\\x0e]\\x9co\\x1c\\x0c\\xff\\x88\\x16\\xd3\\xa9\\xca\\xa2w'\n",
    "\n",
    "diag_64 = base64.b64encode(message_bytes).decode('ascii')\n",
    "\n",
    "diagnosis_keys = { 18411: diag_bytes}\n",
    "\n",
    "x = requests.post(url, data =  diagnosis_keys)\n",
    "x\n",
    "\n",
    "print(x.text)\n",
    "\n",
    "\n",
    "x, y = {'id':'id_1', 'ttl':'14'}\n",
    "x"
   ]
  }
 ],
 "metadata": {
  "kernelspec": {
   "display_name": "Python 3",
   "language": "python",
   "name": "python3"
  },
  "language_info": {
   "codemirror_mode": {
    "name": "ipython",
    "version": 3
   },
   "file_extension": ".py",
   "mimetype": "text/x-python",
   "name": "python",
   "nbconvert_exporter": "python",
   "pygments_lexer": "ipython3",
   "version": "3.7.6"
  }
 },
 "nbformat": 4,
 "nbformat_minor": 4
}
