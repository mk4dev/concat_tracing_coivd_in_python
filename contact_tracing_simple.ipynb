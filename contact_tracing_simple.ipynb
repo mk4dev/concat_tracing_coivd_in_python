{
 "cells": [
  {
   "cell_type": "markdown",
   "metadata": {},
   "source": [
    "# Contact Tracing"
   ]
  },
  {
   "cell_type": "markdown",
   "metadata": {},
   "source": [
    "## UTILS"
   ]
  },
  {
   "cell_type": "code",
   "execution_count": 8,
   "metadata": {},
   "outputs": [
    {
     "data": {
      "text/plain": [
       "32"
      ]
     },
     "execution_count": 8,
     "metadata": {},
     "output_type": "execute_result"
    }
   ],
   "source": [
    "import random\n",
    "import string\n",
    "\n",
    "def get_random_alphaNumeric_string(stringLength=8):\n",
    "    lettersAndDigits = string.ascii_letters + string.digits\n",
    "    return ''.join((random.choice(lettersAndDigits) for i in range(stringLength)))\n",
    "\n",
    "len(get_random_alphaNumeric_string(32))"
   ]
  },
  {
   "cell_type": "code",
   "execution_count": 9,
   "metadata": {},
   "outputs": [],
   "source": [
    "import hashlib\n",
    "import hmac\n",
    "from math import ceil\n",
    "\n",
    "hash_len = 32\n",
    "def hmac_sha256(key, data):\n",
    "    return hmac.new(key, data, hashlib.sha256).digest()\n",
    "\n",
    "def hkdf(length: int, ikm, salt: bytes = b\"\", info: bytes = b\"\") -> bytes:\n",
    "    if len(salt) == 0:\n",
    "        salt = bytes([0]*hash_len)\n",
    "    prk = hmac_sha256(salt, ikm)\n",
    "    t = b\"\"\n",
    "    okm = b\"\"\n",
    "    for i in range(ceil(length / hash_len)):\n",
    "        t = hmac_sha256(prk, t + info + bytes([1+i]))\n",
    "        okm += t\n",
    "    return okm[:length]"
   ]
  },
  {
   "cell_type": "markdown",
   "metadata": {},
   "source": [
    "# CLASSES OF IMPLIMENTATION"
   ]
  },
  {
   "cell_type": "code",
   "execution_count": 10,
   "metadata": {},
   "outputs": [],
   "source": [
    "# MAKING KEYS\n",
    "import datetime;\n",
    "\n",
    "\n",
    "\n",
    "# REQUESTS TO SERVER\n",
    "import requests\n",
    "import json\n",
    "\n",
    "import base64\n",
    "\n",
    "#VIEWS\n",
    "from termcolor import colored\n",
    "\n",
    "\n",
    "# Class of the device of the user of app \\d:D\n",
    "class Device:\n",
    "    def __init__(self, owner_name, device_id):\n",
    "        self.device_id = device_id\n",
    "        self.owner_name = owner_name\n",
    "        self.__tab_daily_tracing_key = []\n",
    "        \n",
    "        self.__makeTracingKey() #generate __tracing_key\n",
    "        self.__day_number = int(datetime.datetime.now().timestamp()/(60*60*24))\n",
    "        self.__encodeDailyTracingKey() #generate __daily_tracing_key\n",
    "        self.__tab_daily_tracing_key.append((self.__day_number, self.__daily_tracing_key))\n",
    "        \n",
    "        ##\n",
    "        self.__tab_rolling_proxy_ids = []\n",
    "        \n",
    "        ##\n",
    "        self.__get_infected = False\n",
    "        \n",
    "        ##\n",
    "        self.__tab_infected_diag_keys = {}\n",
    "        \n",
    "        ###\n",
    "        self.__tab_infected_diag_keys_tuples = []\n",
    "        \n",
    "        ###\n",
    "        self.__infections_days = []\n",
    "        \n",
    "        \n",
    "    def getOwnerName(self):\n",
    "        return self.owner_name\n",
    "    \n",
    "    def getDeviceId(self):\n",
    "        return self.device_id\n",
    "    \n",
    "    \n",
    "    def __makeTracingKey(self, length=32):\n",
    "            self.__tracing_key = get_random_alphaNumeric_string(length)\n",
    "        \n",
    "    def getTracingKey(self):\n",
    "        return self.__tracing_key\n",
    "    \n",
    "    \n",
    "    def __encodeDailyTracingKey(self):\n",
    "        #print(self.__tracing_key)\n",
    "        self.__daily_tracing_key = hkdf(length=16, ikm = bytes(self.__tracing_key, 'utf-8'), info = bytes(self.__day_number) )\n",
    "        self.__tab_daily_tracing_key.append((self.__day_number, self.__daily_tracing_key))\n",
    "        \n",
    "        print(self.__tab_daily_tracing_key)\n",
    "        \n",
    "    def getDailyTraicingKey(self):\n",
    "        if self.__day_number == int(datetime.datetime.now().timestamp()/(60*60*24)):\n",
    "            return self.__daily_tracing_key\n",
    "        \n",
    "        self.__day_number = int(datetime.datetime.now().timestamp()/(60*60*24))\n",
    "        \n",
    "        #------update\n",
    "        self.__encodeDailyTracingKey()\n",
    "        \n",
    "        return self.__daily_tracing_key\n",
    "    \n",
    "    \n",
    "    def GetRollingProximityIdentifierKey(self):\n",
    "        '''for now we gonna call this function to get proximity id each time'''\n",
    "        \n",
    "        #------update\n",
    "        self.getDailyTraicingKey()\n",
    "        \n",
    "        \n",
    "        seconds_since_start_of_day_number =  datetime.datetime.now().timestamp()% (60*60*24)\n",
    "        \n",
    "        self.__time_interval_number = int(seconds_since_start_of_day_number/(60*10)) \n",
    "        self.__time_interval_number_encoded = str(self.__time_interval_number).encode()\n",
    "        print(self.__time_interval_number_encoded)\n",
    "        \n",
    "        self.__proximity_id_compete  = hmac.new(self.__daily_tracing_key, self.__time_interval_number_encoded , hashlib.sha256).digest()\n",
    "        self.__proximity_id_16 = self.__proximity_id_compete[0:16]\n",
    "        return self.__proximity_id_16\n",
    "        \n",
    "        \n",
    "    def addContact(self, new_rolling_proxy_keys):\n",
    "        if new_rolling_proxy_keys not in self.__tab_rolling_proxy_ids:\n",
    "            self.__tab_rolling_proxy_ids.append(new_rolling_proxy_keys)\n",
    "     \n",
    "        \n",
    "    def addContacts(self, new_rolling_proxy_keys):\n",
    "        for proxy_key in new_rolling_proxy_keys:\n",
    "            if proxy_key not in self.__tab_rolling_proxy_ids:\n",
    "                self.__tab_rolling_proxy_ids.append(proxy_key)\n",
    "        #extend\n",
    "            \n",
    "            \n",
    "    def testedPositive(self, server_url = 'http://localhost:9000/positive' ):\n",
    "        if not self.__get_infected:\n",
    "            self.__get_infected = True\n",
    "            \n",
    "            \n",
    "            \n",
    "            self.__infetion_server = server_url\n",
    "\n",
    "            \n",
    "            diag_keys_list =[]\n",
    "            \n",
    "            for daily_tracy_key in self.__tab_daily_tracing_key:\n",
    "                day_num = daily_tracy_key[0]\n",
    "                diag_bytes = daily_tracy_key[1]\n",
    "                \n",
    "                diag_64 = base64.b64encode(diag_bytes).decode('ascii')\n",
    "                \n",
    "                diag_keys_list.append(\n",
    "                    { 'day_num':day_num, 'diag_key': diag_64 } \n",
    "                )\n",
    "            diagnosis_keys = {\n",
    "                'data': diag_keys_list\n",
    "            }\n",
    "            \n",
    "            response = requests.post(self.__infetion_server, data = json.dumps(diagnosis_keys)) \n",
    "            \n",
    "            if response.status_code == 200:\n",
    "                print('Success')\n",
    "                print(response.text)\n",
    "        \n",
    "        \n",
    "    def getInfectedDiagKeys(self,  server_url = 'http://localhost:9090/positive/all' ):\n",
    "\n",
    "        self.__infetion_server = server_url\n",
    "        response = requests.get(self.__infetion_server) \n",
    "        if response.status_code == 200:\n",
    "            \n",
    "            \n",
    "            #it return some string keys so lets just chnage it for now at least\n",
    "            self.__tab_infected_diag_keys = {}\n",
    "            tab_infected_diag_keys_str = response.json()\n",
    "\n",
    "            for num_day_str in sorted( tab_infected_diag_keys_str):\n",
    "                if tab_infected_diag_keys_str[num_day_str] in self.__tab_daily_tracing_key and self.__get_infected==True:\n",
    "                    print(self.getOwnerName(), ' Is Already infected self check from Cloud')\n",
    "                    \n",
    "                elif tab_infected_diag_keys_str[num_day_str] in self.__tab_daily_tracing_key and self.__get_infected==False:\n",
    "                    print(self.getOwnerName(), ' Is not infected but his tracing still in Cloud as infected')\n",
    "                    #later we will see if important to remove it from Cloud\n",
    "                    \n",
    "                elif tab_infected_diag_keys_str[num_day_str] not in self.__tab_daily_tracing_key and self.__get_infected==True:\n",
    "                    self.testedPositive()\n",
    "                else: \n",
    "                    self.__tab_infected_diag_keys[int(num_day_str)] = tab_infected_diag_keys_str[num_day_str]\n",
    "            '''\n",
    "            for num_day_str, infected_diag_key in  tab_infected_diag_keys_str.items():\n",
    "                self.__tab_infected_diag_keys[int(num_day_str)] = infected_diag_key\n",
    "            '''\n",
    "            print('Success')\n",
    "            #print(self.__tab_infected_diag_keys)\n",
    "\n",
    "       \n",
    "    def __generateRollingProximityIdentifierKey(self, infected_diag_key, time_interval_number):\n",
    "        proximity_id_compete  = hmac.new(\n",
    "            base64.b64decode(infected_diag_key) , \n",
    "            str(time_interval_number).encode()  , \n",
    "            hashlib.sha256).digest()\n",
    "        \n",
    "        proximity_id_16 = proximity_id_compete[0:16]\n",
    "        return proximity_id_16\n",
    "    \n",
    "    def __generateAllPossibleRollingProximityIdentifierKey(self, nb = None):\n",
    "        if nb is None:\n",
    "            nb = len(self.__tab_infected_diag_keys)\n",
    "        nb = min(len(self.__tab_infected_diag_keys), nb)    \n",
    "        \n",
    "        self.all_possible_rolling_proximity_key = []\n",
    "        \n",
    "        \n",
    "        for num_day, infected_diag_key_list in list(self.__tab_infected_diag_keys.items())[-nb:]:\n",
    "            self.__tab_infected_diag_keys_tuples.extend([(num_day, diag_key) for diag_key in infected_diag_key_list])\n",
    "        \n",
    "        self.all_possible_rolling_proximity_key = [(num_day, self.__generateRollingProximityIdentifierKey(diag_key, time_inter_num) )\n",
    "                                                   for (num_day, diag_key) in self.__tab_infected_diag_keys_tuples for time_inter_num in range(144) ]\n",
    "        \n",
    "        #print(self.all_possible_rolling_proximity_key)\n",
    "        \n",
    "        \n",
    "    def checkIfContactedInfectedDiagKeys(self):\n",
    "        '''Here we give final situation of contact we give situation but Im not sure if we should give also the date '''\n",
    "        \n",
    "        #------update\n",
    "        self.getInfectedDiagKeys()\n",
    "        \n",
    "        self.__generateAllPossibleRollingProximityIdentifierKey()\n",
    "        \n",
    "        \n",
    "        for (num_day, gen_roll_prox_id_key ) in self.all_possible_rolling_proximity_key:\n",
    "            for proxy_key in self.__tab_rolling_proxy_ids:\n",
    "                if gen_roll_prox_id_key== proxy_key:\n",
    "                    self.__infections_days.append(num_day)\n",
    "                    \n",
    "        if len(self.__infections_days)>0:\n",
    "            for day in self.__infections_days :\n",
    "                date =  date.fromtimestamp(day)\n",
    "                print(colored('Alert ‼', 'red'), self.owner_name, \"Has One contact Infected Persone at day : \", day)\n",
    "                print(colored(self.owner_name+' Get a test if possible or self quarantine and and visit the hospital when facing Complications with infection', 'red'))\n",
    "                #print(self.owner_name, \"Has One contact infected at day : \", num_day)\n",
    "        elif  self.__get_infected==True:\n",
    "            print(colored('Double Alert 💥‼', 'red'), self.owner_name, \" is Tested postive His infected\")\n",
    "            print(colored(self.owner_name+' Self qurantine and visit the hospital when facing Complications with infection', 'red'))\n",
    "        else:\n",
    "            \n",
    "            print(colored('Ok ✔ ', 'green'), self.owner_name, \" Has No contact with infected people\")\n",
    "            #print(self.owner_name, \" Has No contact with infected people\")\n",
    "        \n",
    "        #print(self.__tab_rolling_proxy_ids)\n",
    "    \n",
    "    \n",
    "\n"
   ]
  },
  {
   "cell_type": "markdown",
   "metadata": {},
   "source": [
    "# TESTING DEVICES METHODES"
   ]
  },
  {
   "cell_type": "code",
   "execution_count": 11,
   "metadata": {},
   "outputs": [
    {
     "name": "stdout",
     "output_type": "stream",
     "text": [
      "[(18645, b'\\xc8\\xa8x\\xb0\\xc8\\x9f\"\\xd5\\x86f{\\x13l\\xf7\\xfd\\xd6')]\n"
     ]
    }
   ],
   "source": [
    "d1 = Device(\"Mohamed Hassani\", 111)"
   ]
  },
  {
   "cell_type": "code",
   "execution_count": 12,
   "metadata": {},
   "outputs": [
    {
     "name": "stdout",
     "output_type": "stream",
     "text": [
      "Dailly tracing :  b'\\xc8\\xa8x\\xb0\\xc8\\x9f\"\\xd5\\x86f{\\x13l\\xf7\\xfd\\xd6'\n",
      "b'141'\n",
      "p_id  b'm\\x06|\\xd4\\xa8\\x1cT\\xcc\\r\\x95,\\x1d\\x05lc\\xf9'\n",
      "b'141'\n",
      "16\n"
     ]
    }
   ],
   "source": [
    "#print(d1.getDailyTraicingKey())\n",
    "print('Dailly tracing : ', d1.getDailyTraicingKey())\n",
    "p_id = d1.GetRollingProximityIdentifierKey()\n",
    "print('p_id ', p_id)\n",
    "print(len(d1.GetRollingProximityIdentifierKey()))"
   ]
  },
  {
   "cell_type": "code",
   "execution_count": 13,
   "metadata": {},
   "outputs": [
    {
     "name": "stdout",
     "output_type": "stream",
     "text": [
      "h7dO6D7T59m5Jwv1FD1sKFLSDYh7k1ij\n",
      "Mohamed Hassani\n",
      "b'h7dO6D7T59m5Jwv1FD1sKFLSDYh7k1ij'\n",
      "32\n"
     ]
    }
   ],
   "source": [
    "\n",
    "print(d1.getTracingKey())\n",
    "print(d1.getOwnerName())\n",
    "b = bytes(d1.getTracingKey(), 'utf-8')\n",
    "print(b)\n",
    "print(len(b))"
   ]
  },
  {
   "cell_type": "markdown",
   "metadata": {},
   "source": [
    "## Infections methodes"
   ]
  },
  {
   "cell_type": "code",
   "execution_count": 14,
   "metadata": {},
   "outputs": [
    {
     "name": "stdout",
     "output_type": "stream",
     "text": [
      "Success\n"
     ]
    }
   ],
   "source": [
    "d1.getInfectedDiagKeys()"
   ]
  },
  {
   "cell_type": "code",
   "execution_count": 15,
   "metadata": {},
   "outputs": [
    {
     "name": "stdout",
     "output_type": "stream",
     "text": [
      "Success\n",
      "{\n",
      "  \"msg\": \"Successfully stored\", \n",
      "  \"status\": 200\n",
      "}\n",
      "\n"
     ]
    }
   ],
   "source": [
    "d1.testedPositive()"
   ]
  },
  {
   "cell_type": "code",
   "execution_count": 16,
   "metadata": {},
   "outputs": [
    {
     "name": "stdout",
     "output_type": "stream",
     "text": [
      "Success\n",
      "\u001b[31mDouble Alert 💥‼\u001b[0m Mohamed Hassani  is Tested postive His infected\n",
      "\u001b[31mMohamed Hassani Self qurantine and visit the hospital when facing Complications with infection\u001b[0m\n"
     ]
    }
   ],
   "source": [
    "d1.checkIfContactedInfectedDiagKeys()"
   ]
  },
  {
   "cell_type": "markdown",
   "metadata": {},
   "source": [
    "# Pulic meeting "
   ]
  },
  {
   "cell_type": "code",
   "execution_count": 17,
   "metadata": {},
   "outputs": [],
   "source": [
    "## HERE WE GONNA DEFINE SOME METING TO KNOW PEOPLE THAT MEET .... WE SEMULATE IN PRIMITIVE WAY THE BLE OF THE DEVICE \n",
    "### We need a table where exist all devices with an Id tha semulat BLE signal so ... \n",
    "\n",
    "class Meeting:\n",
    "    \n",
    "    def __init__(self):\n",
    "        \n",
    "        self.__tab_proxy_contact_tracing_people = [] # contain ids of devices in same pace ther is a BLE Link ...\n",
    "        self.__tab_rolling_proximity_identifiers = [] # comtains rolling proximity identifiers generated by those devices every 10 min\n",
    "    \n",
    "    def getAllRollingProximityIdentifiers(self):\n",
    "        return self.__tab_rolling_proximity_identifiers\n",
    "    \n",
    "    def addContact(self, device_id, devices_list): \n",
    "        '''remember that contact tracing is focusing on privacy here id device is just to semulat near distance contact between device that have Contact Tracing active'''\n",
    "        if device_id not in self.__tab_proxy_contact_tracing_people:\n",
    "            self.__tab_proxy_contact_tracing_people.append(device_id)\n",
    "            \n",
    "            for device in devices_list:\n",
    "                if device.getDeviceId() == device_id:\n",
    "                    device_rolling_proximity_identifier = device.GetRollingProximityIdentifierKey()\n",
    "                    if device_rolling_proximity_identifier not in self.__tab_rolling_proximity_identifiers:\n",
    "                        self.__tab_rolling_proximity_identifiers.append(device_rolling_proximity_identifier)\n",
    "                    \n",
    "            for device in devices_list:\n",
    "                device.addContacts(self.__tab_rolling_proximity_identifiers)\n",
    "                \n",
    "            print('HI---------------------\\n', self.__tab_rolling_proximity_identifiers)"
   ]
  },
  {
   "cell_type": "code",
   "execution_count": 18,
   "metadata": {},
   "outputs": [
    {
     "name": "stdout",
     "output_type": "stream",
     "text": [
      "[(18645, b'j\\xfam\\x1c\\xc3\\xdf\\x10m\\xc8f06^z,P')]\n",
      "[(18645, b'\\xc2L\\xac\\x92\\xa3\\xb9 GN\\xd0\\xc9;\\xbcc\\xd6\\xa3')]\n",
      "b'141'\n",
      "HI---------------------\n",
      " [b'\\x7f\\x82\\xe7\\xcc\\xf6\\xb2\\xa8\\x1bs\\\\\\x02\\n\\xa3\\x99\\xfa\\x07']\n",
      "b'141'\n",
      "HI---------------------\n",
      " [b'\\x7f\\x82\\xe7\\xcc\\xf6\\xb2\\xa8\\x1bs\\\\\\x02\\n\\xa3\\x99\\xfa\\x07', b'\\xd6d\\xde\\xe3\\t\\xc78\\x9f\\x92J\\xbc\\xce8\\x19\\xb8a']\n",
      "Success\n",
      "\u001b[32mOk ✔ \u001b[0m Amine Reda  Has No contact with infected people\n",
      "Success\n",
      "\u001b[32mOk ✔ \u001b[0m Meyiam Salhi  Has No contact with infected people\n",
      "[<__main__.Device object at 0x000001388FD57908>, <__main__.Device object at 0x000001388FD575C8>]\n"
     ]
    }
   ],
   "source": [
    "# TEST MEETHING\n",
    "\n",
    "devices = []\n",
    "\n",
    "d2 = Device(\"Amine Reda\", 222)\n",
    "devices.append(d2)\n",
    "\n",
    "d3 = Device(\"Meyiam Salhi\", 333)\n",
    "devices.append(d3)\n",
    "\n",
    "meeting_1 = Meeting()\n",
    "\n",
    "meeting_1.addContact(222, devices)\n",
    "meeting_1.addContact(333, devices)\n",
    "\n",
    "\n",
    "d2.checkIfContactedInfectedDiagKeys()\n",
    "d3.checkIfContactedInfectedDiagKeys()\n",
    "print(devices)"
   ]
  },
  {
   "cell_type": "code",
   "execution_count": 19,
   "metadata": {},
   "outputs": [
    {
     "data": {
      "text/plain": [
       "[b'\\x7f\\x82\\xe7\\xcc\\xf6\\xb2\\xa8\\x1bs\\\\\\x02\\n\\xa3\\x99\\xfa\\x07',\n",
       " b'\\xd6d\\xde\\xe3\\t\\xc78\\x9f\\x92J\\xbc\\xce8\\x19\\xb8a']"
      ]
     },
     "execution_count": 19,
     "metadata": {},
     "output_type": "execute_result"
    }
   ],
   "source": [
    "meeting_1.getAllRollingProximityIdentifiers()"
   ]
  },
  {
   "cell_type": "code",
   "execution_count": 20,
   "metadata": {},
   "outputs": [
    {
     "name": "stdout",
     "output_type": "stream",
     "text": [
      "Success\n",
      "{\n",
      "  \"msg\": \"Successfully stored\", \n",
      "  \"status\": 200\n",
      "}\n",
      "\n"
     ]
    }
   ],
   "source": [
    "d2.testedPositive()"
   ]
  },
  {
   "cell_type": "code",
   "execution_count": 21,
   "metadata": {},
   "outputs": [
    {
     "name": "stdout",
     "output_type": "stream",
     "text": [
      "Success\n",
      "\u001b[31mDouble Alert 💥‼\u001b[0m Amine Reda  is Tested postive His infected\n",
      "\u001b[31mAmine Reda Self qurantine and visit the hospital when facing Complications with infection\u001b[0m\n"
     ]
    }
   ],
   "source": [
    "d2.checkIfContactedInfectedDiagKeys()"
   ]
  },
  {
   "cell_type": "code",
   "execution_count": 22,
   "metadata": {},
   "outputs": [
    {
     "name": "stdout",
     "output_type": "stream",
     "text": [
      "Success\n",
      "\u001b[32mOk ✔ \u001b[0m Meyiam Salhi  Has No contact with infected people\n"
     ]
    }
   ],
   "source": [
    "d3.checkIfContactedInfectedDiagKeys()"
   ]
  },
  {
   "cell_type": "code",
   "execution_count": 23,
   "metadata": {},
   "outputs": [
    {
     "name": "stdout",
     "output_type": "stream",
     "text": [
      "b'141'\n"
     ]
    },
    {
     "data": {
      "text/plain": [
       "[b'\\x7f\\x82\\xe7\\xcc\\xf6\\xb2\\xa8\\x1bs\\\\\\x02\\n\\xa3\\x99\\xfa\\x07',\n",
       " b'\\xd6d\\xde\\xe3\\t\\xc78\\x9f\\x92J\\xbc\\xce8\\x19\\xb8a']"
      ]
     },
     "execution_count": 23,
     "metadata": {},
     "output_type": "execute_result"
    }
   ],
   "source": [
    "d3.GetRollingProximityIdentifierKey()\n",
    "meeting_1.addContact(333, devices)\n",
    "meeting_1.getAllRollingProximityIdentifiers()"
   ]
  }
 ],
 "metadata": {
  "kernelspec": {
   "display_name": "Python 3",
   "language": "python",
   "name": "python3"
  },
  "language_info": {
   "codemirror_mode": {
    "name": "ipython",
    "version": 3
   },
   "file_extension": ".py",
   "mimetype": "text/x-python",
   "name": "python",
   "nbconvert_exporter": "python",
   "pygments_lexer": "ipython3",
   "version": "3.7.6"
  }
 },
 "nbformat": 4,
 "nbformat_minor": 4
}
